{
 "cells": [
  {
   "cell_type": "code",
   "execution_count": 49,
   "metadata": {},
   "outputs": [
    {
     "name": "stdout",
     "output_type": "stream",
     "text": [
      "Created linked list: \n",
      "7\n",
      "6\n",
      "8\n",
      "4\n"
     ]
    }
   ],
   "source": [
    "class Node:\n",
    "    def __init__(self, data):\n",
    "        self.data = data\n",
    "        self.next = None\n",
    "    \n",
    "class LinkedList:\n",
    "    def __init__(self):\n",
    "        self.head = None\n",
    "    def printList(self):\n",
    "        temp = self.head\n",
    "        while temp:\n",
    "            print(temp.data)\n",
    "            temp = temp.next\n",
    "\n",
    "    def push(self, data):\n",
    "        NewNode = Node(data)\n",
    "        NewNode.next = self.head\n",
    "        self.head = NewNode\n",
    "\n",
    "    def insertAfter(self, prev_node, new_data):\n",
    "        if prev_node is None:\n",
    "            print(\"The given previous node must be in LinkedList\")\n",
    "            return\n",
    "        \n",
    "        new_node = Node(new_data)\n",
    "        new_node.next = prev_node.next\n",
    "        prev_node.next = new_node\n",
    "    \n",
    "    def append(self, new_data):\n",
    "        # new_node = Node(new_data)\n",
    "        # if self.head is None:\n",
    "        #     self.head = new_node\n",
    "        #     return\n",
    "        # last = self.head\n",
    "        # while (last.next):\n",
    "        #     last = last.next\n",
    "        # last.next = new_node\n",
    "        new_node = Node(new_data)\n",
    "        if self.head == None:\n",
    "            self.head = new_node\n",
    "            return\n",
    "        curr  = self.head\n",
    "        while curr.next is not None:\n",
    "            curr = curr.next\n",
    "        curr.next = new_node\n",
    "\n",
    "    \n",
    "if __name__=='__main__':\n",
    "    llist = LinkedList()\n",
    "    llist.append(6)\n",
    "    llist.push(7)\n",
    "    llist.append(4)\n",
    "    llist.insertAfter(llist.head.next, 8)\n",
    "    print(\"Created linked list: \")\n",
    "    llist.printList()"
   ]
  },
  {
   "cell_type": "code",
   "execution_count": 4,
   "metadata": {},
   "outputs": [
    {
     "name": "stdout",
     "output_type": "stream",
     "text": [
      "2\n",
      "3\n",
      "1\n",
      "7\n",
      "+++++++++\n",
      "2\n",
      "3\n",
      "7\n"
     ]
    }
   ],
   "source": [
    "class Node:\n",
    "    def __init__(self, data):\n",
    "        self.data = data\n",
    "        self.next = None\n",
    "\n",
    "class LinkedList:\n",
    "    def __init__(self):\n",
    "        self.head = None\n",
    "    \n",
    "    def push(self, data):\n",
    "        new_node = Node(data)\n",
    "        new_node.next = self.head\n",
    "        self.head = new_node\n",
    "    \n",
    "    def deleteNode(self, key):\n",
    "        temp = self.head\n",
    "        if temp is not None:\n",
    "            if temp.data == key:\n",
    "                self.head = temp.next\n",
    "                temp = None\n",
    "                return\n",
    "\n",
    "            while temp is not None:\n",
    "                if temp.data == key:\n",
    "                    break\n",
    "                prev = temp\n",
    "                temp = temp.next\n",
    "\n",
    "            if temp == None:\n",
    "                return\n",
    "\n",
    "            prev.next = temp.next\n",
    "            temp = None\n",
    "    \n",
    "    def printList(self):\n",
    "        temp = self.head\n",
    "        while temp is not None:\n",
    "            print(temp.data)\n",
    "            temp = temp.next\n",
    "        \n",
    "llist = LinkedList()\n",
    "llist.push(7)\n",
    "llist.push(1)\n",
    "llist.push(3)\n",
    "llist.push(2)\n",
    "llist.printList()\n",
    "print(\"+++++++++\")\n",
    "llist.deleteNode(1)\n",
    "llist.printList()"
   ]
  },
  {
   "cell_type": "markdown",
   "metadata": {},
   "source": [
    "### Delete a Linked List node at a given position ([Link](https://www.geeksforgeeks.org/delete-a-linked-list-node-at-a-given-position/))"
   ]
  },
  {
   "cell_type": "code",
   "execution_count": 17,
   "metadata": {},
   "outputs": [],
   "source": [
    "class Node:\n",
    "    def __init__(self, data):\n",
    "        self.data = data\n",
    "        self.next = None\n",
    "\n",
    "class LinkedList:\n",
    "    def __init__(self):\n",
    "        self.head  = None\n",
    "\n",
    "    def push(self, data):\n",
    "        temp = Node(data)\n",
    "        temp.next = self.head\n",
    "        self.head = temp\n",
    "    \n",
    "    def deleteNode(self, position):\n",
    "        if self.head is None:\n",
    "            return\n",
    "        \n",
    "        if position == 0:\n",
    "            self.head = self.head.next\n",
    "            return self.head\n",
    "        \n",
    "        index = 0\n",
    "        current = self.head\n",
    "        prev = self.head\n",
    "        temp = self.head\n",
    "        while current is not None:\n",
    "            if index == position:\n",
    "                temp = current.next\n",
    "                break\n",
    "            prev = current\n",
    "            current = current.next\n",
    "            index += 1\n",
    "        prev.next = temp\n",
    "        return prev\n",
    "    \n",
    "    \n",
    "    def printList(self):\n",
    "        temp = self.head\n",
    "        while(temp):\n",
    "            print (\" %d \" % (temp.data),end=\" \")\n",
    "            temp = temp.next"
   ]
  },
  {
   "cell_type": "code",
   "execution_count": 19,
   "metadata": {},
   "outputs": [
    {
     "name": "stdout",
     "output_type": "stream",
     "text": [
      " 4   3   2   1  \n",
      "\n",
      " 4   3   2  "
     ]
    }
   ],
   "source": [
    "llist = LinkedList()\n",
    "llist.push(1)\n",
    "llist.push(2)\n",
    "llist.push(3)\n",
    "llist.push(4)\n",
    "llist.printList()\n",
    "llist.deleteNode(3)\n",
    "print(\"\\n\")\n",
    "llist.printList()\n"
   ]
  },
  {
   "cell_type": "code",
   "execution_count": 4,
   "metadata": {},
   "outputs": [],
   "source": [
    "class Node:\n",
    "    def __init__(self, data):\n",
    "        self.data = data\n",
    "        self.next = None\n",
    "\n",
    "class LinkedList:\n",
    "    def __init__(self):\n",
    "        self.head = None\n",
    "    \n",
    "    def push(self, data):\n",
    "        new_node = Node(data)\n",
    "        new_node.next = self.head\n",
    "        self.head = new_node\n",
    "    \n",
    "    def iterReverseList(self):\n",
    "        prev = None\n",
    "        curr = self.head\n",
    "        while curr:\n",
    "            temp = curr.next\n",
    "            curr.next = prev\n",
    "            prev = curr\n",
    "            curr = temp\n",
    "        self.head = prev\n",
    "    \n",
    "    def recurReverseList(self, head):\n",
    "        if head is None or head.next is None:\n",
    "            return head\n",
    "        rest = self.recurReverseList(head.next)\n",
    "        head.next.next = head\n",
    "        head.next = None\n",
    "\n",
    "        return rest\n",
    "\n",
    "\n",
    "    def printList(self):\n",
    "        curr  = self.head\n",
    "        while curr:\n",
    "            print(curr.data)\n",
    "            curr = curr.next\n",
    "\n",
    "    def __str__(self):\n",
    "        LinkedListStr = \"\"\n",
    "        curr = self.head\n",
    "        while curr:\n",
    "            LinkedListStr = (LinkedListStr + str(curr.data) + \" \")\n",
    "            curr = curr.next\n",
    "        return LinkedListStr"
   ]
  },
  {
   "cell_type": "code",
   "execution_count": 6,
   "metadata": {},
   "outputs": [
    {
     "name": "stdout",
     "output_type": "stream",
     "text": [
      "3 2 1 \n",
      "1 2 3 \n"
     ]
    }
   ],
   "source": [
    "s = LinkedList()\n",
    "s.push(1)\n",
    "s.push(2)\n",
    "s.push(3)\n",
    "print(s)\n",
    "s.head = s.recurReverseList(s.head)\n",
    "print(s)"
   ]
  },
  {
   "cell_type": "code",
   "execution_count": null,
   "metadata": {},
   "outputs": [],
   "source": []
  },
  {
   "cell_type": "code",
   "execution_count": null,
   "metadata": {},
   "outputs": [],
   "source": []
  }
 ],
 "metadata": {
  "interpreter": {
   "hash": "f3191fe16ac2b04b2b68be3cfbf9890188e5b4492c7aa22c6d5887c51209e689"
  },
  "kernelspec": {
   "display_name": "Python 3.7.6 ('DataScience')",
   "language": "python",
   "name": "python3"
  },
  "language_info": {
   "codemirror_mode": {
    "name": "ipython",
    "version": 3
   },
   "file_extension": ".py",
   "mimetype": "text/x-python",
   "name": "python",
   "nbconvert_exporter": "python",
   "pygments_lexer": "ipython3",
   "version": "3.7.6"
  },
  "orig_nbformat": 4
 },
 "nbformat": 4,
 "nbformat_minor": 2
}
