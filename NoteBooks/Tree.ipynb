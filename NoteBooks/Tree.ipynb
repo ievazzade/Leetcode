{
 "cells": [
  {
   "cell_type": "code",
   "execution_count": 2,
   "metadata": {},
   "outputs": [],
   "source": [
    "class Node:\n",
    "    def __init__(self, key):\n",
    "        self.val = key\n",
    "        self.left = None\n",
    "        self.right = None\n",
    "    \n",
    "root = Node(1)\n",
    "root.left = Node(2)\n",
    "root.right = Node(3)\n",
    "root.left.left = Node(4)"
   ]
  },
  {
   "cell_type": "markdown",
   "metadata": {},
   "source": [
    "## Inorder Traversal"
   ]
  },
  {
   "cell_type": "code",
   "execution_count": 19,
   "metadata": {},
   "outputs": [],
   "source": [
    "class Node:\n",
    "    def __init__(self, key):\n",
    "        self.val = key\n",
    "        self.left = None\n",
    "        self.right = None\n",
    "    \n",
    "def printInorder(root):\n",
    "    if root:\n",
    "        printInorder(root.left)\n",
    "        print(root.val)\n",
    "        printInorder(root.right)\n",
    "\n",
    "def printPostorder(root):\n",
    "    if root:\n",
    "        printPostorder(root.left)\n",
    "        printPostorder(root.right)\n",
    "        print(root.val)\n",
    "\n",
    "def printPreorder(root):\n",
    "    if root:\n",
    "        print(root.val)        \n",
    "        printPreorder(root.left)\n",
    "        printPreorder(root.right)\n"
   ]
  },
  {
   "cell_type": "code",
   "execution_count": 20,
   "metadata": {},
   "outputs": [
    {
     "name": "stdout",
     "output_type": "stream",
     "text": [
      "Inorder traversal of binary tree is\n",
      "4\n",
      "2\n",
      "5\n",
      "1\n",
      "3\n",
      "\n",
      "Postorder traversal of binary tree is\n",
      "4\n",
      "5\n",
      "2\n",
      "3\n",
      "1\n",
      "\n",
      "Preorder traversal of binary tree is\n",
      "1\n",
      "2\n",
      "4\n",
      "5\n",
      "3\n"
     ]
    }
   ],
   "source": [
    "root = Node(1)\n",
    "root.left = Node(2)\n",
    "root.right = Node(3)\n",
    "root.left.left = Node(4)\n",
    "root.left.right = Node(5)\n",
    "print(\"Inorder traversal of binary tree is\")\n",
    "printInorder(root)\n",
    "print(\"\\nPostorder traversal of binary tree is\")\n",
    "printPostorder(root)\n",
    "print(\"\\nPreorder traversal of binary tree is\")\n",
    "printPreorder(root)"
   ]
  },
  {
   "cell_type": "markdown",
   "metadata": {},
   "source": [
    "## Inorder Tree Traversak without Recursuib"
   ]
  },
  {
   "cell_type": "code",
   "execution_count": 4,
   "metadata": {},
   "outputs": [
    {
     "name": "stdout",
     "output_type": "stream",
     "text": [
      "42513\n"
     ]
    }
   ],
   "source": [
    "class Node:\n",
    "    def __init__(self, data):\n",
    "        self.data = data\n",
    "        self.left = None\n",
    "        self.right = None\n",
    "    \n",
    "def inOrder(root):\n",
    "    current = root\n",
    "    stack = []\n",
    "\n",
    "    while True:\n",
    "        if current is not None:\n",
    "            stack.append(current)\n",
    "            current = current.left\n",
    "        elif stack:\n",
    "            current = stack.pop()\n",
    "            print(current.data, end=\"\")\n",
    "            current = current.right\n",
    "        else:\n",
    "            break\n",
    "    print()\n",
    "\n",
    "root = Node(1)\n",
    "root.left = Node(2)\n",
    "root.right = Node(3)\n",
    "root.left.left = Node(4)\n",
    "root.left.right = Node(5)\n",
    "\n",
    "inOrder(root)"
   ]
  },
  {
   "cell_type": "code",
   "execution_count": 61,
   "metadata": {},
   "outputs": [],
   "source": [
    "class Node:\n",
    "    def __init__(self, val):\n",
    "        self.val = val\n",
    "        self.left = None\n",
    "        self.right = None\n",
    "\n",
    "def inOrder(root):\n",
    "    if not root:\n",
    "        return False\n",
    "    inOrder(root.left)\n",
    "    print(root.val, end = \" - \")\n",
    "    inOrder(root.right)\n",
    "\n",
    "def height(root):\n",
    "    if not root:\n",
    "        return 0\n",
    "    else:\n",
    "        lh = height(root.left)\n",
    "        rh = height(root.right)\n",
    "    \n",
    "    return max(lh, rh) + 1"
   ]
  },
  {
   "cell_type": "code",
   "execution_count": 64,
   "metadata": {},
   "outputs": [
    {
     "name": "stdout",
     "output_type": "stream",
     "text": [
      "5 - 4 - 5 - 3 - 4 - 2 - 3 - 1 - 2 - \n",
      "5\n"
     ]
    }
   ],
   "source": [
    "s = Node(1)\n",
    "s.left = Node(2)\n",
    "s.right = Node(2)\n",
    "s.left.left = Node(3)\n",
    "s.left.right = Node(3)\n",
    "s.left.left.left = Node(4)\n",
    "s.left.left.right = Node(4)\n",
    "s.left.left.left.left = Node(5)\n",
    "s.left.left.left.right = Node(5)\n",
    "inOrder(s)\n",
    "print()\n",
    "p = height(s)\n",
    "print(p)"
   ]
  },
  {
   "cell_type": "code",
   "execution_count": 72,
   "metadata": {},
   "outputs": [
    {
     "name": "stdout",
     "output_type": "stream",
     "text": [
      "12\n"
     ]
    }
   ],
   "source": [
    "# Sum of all leaves\n",
    "\n",
    "class Node:\n",
    "    def __init__(self, val):\n",
    "        self.val = val\n",
    "        self.left = None\n",
    "        self.right = None\n",
    "\n",
    "def sumLeaves(root):\n",
    "    ans = [0]\n",
    "\n",
    "    def dfs(root):\n",
    "        if not root:\n",
    "            return 0\n",
    "        if not root.left and not root.right:\n",
    "            ans[0] += root.val\n",
    "\n",
    "        dfs(root.left)\n",
    "        dfs(root.right)\n",
    "        return ans[0]\n",
    "    return dfs(root)\n",
    "\n",
    "root = Node(5)\n",
    "root.left = Node(3)\n",
    "root.right = Node(6)\n",
    "root.left.left = Node(2)\n",
    "root.left.right = Node(4)\n",
    "ans = sumLeaves(root)\n",
    "print(ans)\n",
    "    "
   ]
  },
  {
   "cell_type": "code",
   "execution_count": 78,
   "metadata": {},
   "outputs": [
    {
     "name": "stdout",
     "output_type": "stream",
     "text": [
      "2\n"
     ]
    }
   ],
   "source": [
    "# Sum of left leaves\n",
    "\n",
    "class Node:\n",
    "    def __init__(self, val):\n",
    "        self.val = val\n",
    "        self.left = None\n",
    "        self.right = None\n",
    "\n",
    "class Solution:\n",
    "    def sumOfLeftLeaves(self, root):\n",
    "        self.sum = 0\n",
    "\n",
    "        def SLL(root, isLeft):\n",
    "            if not root: return 0\n",
    "            if isLeft and not root.left and not root.right:\n",
    "                self.sum += root.val\n",
    "                return\n",
    "            SLL(root.left, True)\n",
    "            SLL(root.right, False)\n",
    "        \n",
    "        if not root: return 0\n",
    "        SLL(root, False)\n",
    "        return self.sum\n",
    "\n",
    "if __name__ == \"__main__\":\n",
    "    root = Node(5)\n",
    "    root.left = Node(3)\n",
    "    root.right = Node(6)\n",
    "    root.left.left = Node(2)\n",
    "    root.left.right = Node(4)\n",
    "    s = Solution()\n",
    "    ans = s.sumOfLeftLeaves(root)\n",
    "    print(ans)"
   ]
  },
  {
   "cell_type": "code",
   "execution_count": null,
   "metadata": {},
   "outputs": [],
   "source": []
  },
  {
   "cell_type": "code",
   "execution_count": null,
   "metadata": {},
   "outputs": [],
   "source": []
  }
 ],
 "metadata": {
  "kernelspec": {
   "display_name": "Python 3.9.12 64-bit",
   "language": "python",
   "name": "python3"
  },
  "language_info": {
   "codemirror_mode": {
    "name": "ipython",
    "version": 3
   },
   "file_extension": ".py",
   "mimetype": "text/x-python",
   "name": "python",
   "nbconvert_exporter": "python",
   "pygments_lexer": "ipython3",
   "version": "3.9.12"
  },
  "orig_nbformat": 4,
  "vscode": {
   "interpreter": {
    "hash": "aee8b7b246df8f9039afb4144a1f6fd8d2ca17a180786b69acc140d282b71a49"
   }
  }
 },
 "nbformat": 4,
 "nbformat_minor": 2
}
