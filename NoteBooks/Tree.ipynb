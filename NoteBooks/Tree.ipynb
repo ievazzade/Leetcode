{
 "cells": [
  {
   "cell_type": "code",
   "execution_count": 2,
   "metadata": {},
   "outputs": [],
   "source": [
    "class Node:\n",
    "    def __init__(self, key):\n",
    "        self.val = key\n",
    "        self.left = None\n",
    "        self.right = None\n",
    "    \n",
    "root = Node(1)\n",
    "root.left = Node(2)\n",
    "root.right = Node(3)\n",
    "root.left.left = Node(4)"
   ]
  },
  {
   "cell_type": "markdown",
   "metadata": {},
   "source": [
    "## Inorder Traversal"
   ]
  },
  {
   "cell_type": "code",
   "execution_count": 19,
   "metadata": {},
   "outputs": [],
   "source": [
    "class Node:\n",
    "    def __init__(self, key):\n",
    "        self.val = key\n",
    "        self.left = None\n",
    "        self.right = None\n",
    "    \n",
    "def printInorder(root):\n",
    "    if root:\n",
    "        printInorder(root.left)\n",
    "        print(root.val)\n",
    "        printInorder(root.right)\n",
    "\n",
    "def printPostorder(root):\n",
    "    if root:\n",
    "        printPostorder(root.left)\n",
    "        printPostorder(root.right)\n",
    "        print(root.val)\n",
    "\n",
    "def printPreorder(root):\n",
    "    if root:\n",
    "        print(root.val)        \n",
    "        printPreorder(root.left)\n",
    "        printPreorder(root.right)\n"
   ]
  },
  {
   "cell_type": "code",
   "execution_count": 20,
   "metadata": {},
   "outputs": [
    {
     "name": "stdout",
     "output_type": "stream",
     "text": [
      "Inorder traversal of binary tree is\n",
      "4\n",
      "2\n",
      "5\n",
      "1\n",
      "3\n",
      "\n",
      "Postorder traversal of binary tree is\n",
      "4\n",
      "5\n",
      "2\n",
      "3\n",
      "1\n",
      "\n",
      "Preorder traversal of binary tree is\n",
      "1\n",
      "2\n",
      "4\n",
      "5\n",
      "3\n"
     ]
    }
   ],
   "source": [
    "root = Node(1)\n",
    "root.left = Node(2)\n",
    "root.right = Node(3)\n",
    "root.left.left = Node(4)\n",
    "root.left.right = Node(5)\n",
    "print(\"Inorder traversal of binary tree is\")\n",
    "printInorder(root)\n",
    "print(\"\\nPostorder traversal of binary tree is\")\n",
    "printPostorder(root)\n",
    "print(\"\\nPreorder traversal of binary tree is\")\n",
    "printPreorder(root)"
   ]
  },
  {
   "cell_type": "markdown",
   "metadata": {},
   "source": [
    "## Inorder Tree Traversak without Recursuib"
   ]
  },
  {
   "cell_type": "code",
   "execution_count": 4,
   "metadata": {},
   "outputs": [
    {
     "name": "stdout",
     "output_type": "stream",
     "text": [
      "42513\n"
     ]
    }
   ],
   "source": [
    "class Node:\n",
    "    def __init__(self, data):\n",
    "        self.data = data\n",
    "        self.left = None\n",
    "        self.right = None\n",
    "    \n",
    "def inOrder(root):\n",
    "    current = root\n",
    "    stack = []\n",
    "\n",
    "    while True:\n",
    "        if current is not None:\n",
    "            stack.append(current)\n",
    "            current = current.left\n",
    "        elif stack:\n",
    "            current = stack.pop()\n",
    "            print(current.data, end=\"\")\n",
    "            current = current.right\n",
    "        else:\n",
    "            break\n",
    "    print()\n",
    "\n",
    "root = Node(1)\n",
    "root.left = Node(2)\n",
    "root.right = Node(3)\n",
    "root.left.left = Node(4)\n",
    "root.left.right = Node(5)\n",
    "\n",
    "inOrder(root)"
   ]
  },
  {
   "cell_type": "code",
   "execution_count": null,
   "metadata": {},
   "outputs": [],
   "source": []
  }
 ],
 "metadata": {
  "interpreter": {
   "hash": "f3191fe16ac2b04b2b68be3cfbf9890188e5b4492c7aa22c6d5887c51209e689"
  },
  "kernelspec": {
   "display_name": "Python 3.7.6 ('DataScience')",
   "language": "python",
   "name": "python3"
  },
  "language_info": {
   "codemirror_mode": {
    "name": "ipython",
    "version": 3
   },
   "file_extension": ".py",
   "mimetype": "text/x-python",
   "name": "python",
   "nbconvert_exporter": "python",
   "pygments_lexer": "ipython3",
   "version": "3.7.6"
  },
  "orig_nbformat": 4
 },
 "nbformat": 4,
 "nbformat_minor": 2
}
