{
 "cells": [
  {
   "cell_type": "code",
   "execution_count": 1,
   "metadata": {},
   "outputs": [],
   "source": [
    "# A Fibonacci sequence is the integer sequence of 0, 1, 1, 2, 3, 5, 8....\n",
    "\n",
    "def recursive_fib(n):\n",
    "    if n<=1:\n",
    "        return n\n",
    "    else:\n",
    "        return (recursive_fib(n-1) + recursive_fib(n-2))"
   ]
  },
  {
   "cell_type": "code",
   "execution_count": 7,
   "metadata": {},
   "outputs": [
    {
     "name": "stdout",
     "output_type": "stream",
     "text": [
      "0 1 1 2 3 "
     ]
    }
   ],
   "source": [
    "for i in range(5):\n",
    "    print(recursive_fib(i), end=' ')"
   ]
  },
  {
   "cell_type": "code",
   "execution_count": 8,
   "metadata": {},
   "outputs": [],
   "source": [
    "# The factorial of 6 is denoted as 6! = 1*2*3*4*5*6 = 720.\n",
    "\n",
    "def factorial(n):\n",
    "    if n == 1:\n",
    "        return n\n",
    "    else:\n",
    "        return n * factorial(n-1)"
   ]
  },
  {
   "cell_type": "code",
   "execution_count": 9,
   "metadata": {},
   "outputs": [
    {
     "data": {
      "text/plain": [
       "720"
      ]
     },
     "execution_count": 9,
     "metadata": {},
     "output_type": "execute_result"
    }
   ],
   "source": [
    "factorial(6)"
   ]
  },
  {
   "cell_type": "code",
   "execution_count": 19,
   "metadata": {},
   "outputs": [
    {
     "name": "stdout",
     "output_type": "stream",
     "text": [
      "True\n"
     ]
    }
   ],
   "source": [
    "# Finding Substring Using Recursion\n",
    "def isSubString(str1, str2):\n",
    "    size1 = len(str1)\n",
    "    size2 = len(str2)\n",
    "    if size1 == 0:\n",
    "        return False\n",
    "    if size2 == 0:\n",
    "        return True\n",
    "    if str1[0]== str2[0]:\n",
    "        return ExactSame(str1, str2)\n",
    "    return isSubString(str1[1:], str2)\n",
    "\n",
    "def ExactSame(str1, str2):\n",
    "    size1 = len(str1)\n",
    "    size2 = len(str2)\n",
    "    if size1 == 0:\n",
    "        return False\n",
    "    if size2 == 0:\n",
    "        return True\n",
    "    if str1[0] == str2[0]:\n",
    "        return ExactSame(str1[1:], str2[1:])\n",
    "    return False\n",
    "\n",
    "str1 = \"NETSETOS\"\n",
    "str2 = \"SET\"\n",
    "\n",
    "p = isSubString(str1, str2)\n",
    "print(p)"
   ]
  },
  {
   "cell_type": "code",
   "execution_count": 3,
   "metadata": {},
   "outputs": [
    {
     "name": "stdout",
     "output_type": "stream",
     "text": [
      "AKSARBEN"
     ]
    }
   ],
   "source": [
    "# Reversing a String Using Recursion\n",
    "def reverse1(str):\n",
    "    size = len(str)\n",
    "\n",
    "    if size == 0:\n",
    "        return\n",
    "\n",
    "    last_char = str[size-1]\n",
    "    print(last_char, end=\"\")\n",
    "    reverse1(str[:size-1])\n",
    "\n",
    "reverse1(\"NEBRASKA\")\n"
   ]
  },
  {
   "cell_type": "code",
   "execution_count": 5,
   "metadata": {},
   "outputs": [
    {
     "name": "stdout",
     "output_type": "stream",
     "text": [
      "1 0 0 1 "
     ]
    }
   ],
   "source": [
    "# Converting Decimal to binary With Recursion\n",
    "def binary(n):\n",
    "    if n == 0:\n",
    "        return\n",
    "    else:\n",
    "        binary(n//2)\n",
    "        print(n%2, end=\" \")\n",
    "\n",
    "binary(9)\n"
   ]
  },
  {
   "cell_type": "code",
   "execution_count": 7,
   "metadata": {},
   "outputs": [
    {
     "name": "stdout",
     "output_type": "stream",
     "text": [
      "541"
     ]
    }
   ],
   "source": [
    "# Reverse digit from string Using Recursion\n",
    "def rev_digit(str):\n",
    "    size = len(str)\n",
    "    if size == 0:\n",
    "        return\n",
    "    last_char= str[size-1]\n",
    "    if last_char.isdigit():\n",
    "        print(last_char, end=\"\")\n",
    "    rev_digit(str[0:size-1])\n",
    "\n",
    "rev_digit(\"1a4b5\")\n"
   ]
  },
  {
   "cell_type": "code",
   "execution_count": 19,
   "metadata": {},
   "outputs": [
    {
     "name": "stdout",
     "output_type": "stream",
     "text": [
      "1\n",
      "\n",
      "100\n",
      "\n",
      "101\n",
      "\n",
      "1001\n"
     ]
    }
   ],
   "source": [
    "# Binary Representation for Digits from string using Recursion\n",
    "def digit(str):\n",
    "    size = len(str)\n",
    "    if size == 0:\n",
    "        return\n",
    "    \n",
    "    last_char= str[size-1]\n",
    "    digit(str[0:size-1])\n",
    "    if last_char.isdigit():\n",
    "        binary(int(last_char))\n",
    "    print()\n",
    "\n",
    "\n",
    "def binary(num):\n",
    "    if num == 0:\n",
    "        return\n",
    "    binary(num//2)\n",
    "    print(num%2, end=\"\")\n",
    "    \n",
    "\n",
    "digit(\"1a4b5d9\")"
   ]
  },
  {
   "cell_type": "code",
   "execution_count": 7,
   "metadata": {},
   "outputs": [],
   "source": [
    "def list_sum(nums):\n",
    "    if len(nums) == 1 :\n",
    "        return nums[0]\n",
    "    else:\n",
    "        return nums[0] + list_sum(nums[1:])\n",
    "    "
   ]
  },
  {
   "cell_type": "code",
   "execution_count": 8,
   "metadata": {},
   "outputs": [
    {
     "name": "stdout",
     "output_type": "stream",
     "text": [
      "15\n"
     ]
    }
   ],
   "source": [
    "a = list_sum([1,2,3,4,5])\n",
    "print(a)"
   ]
  },
  {
   "cell_type": "code",
   "execution_count": null,
   "metadata": {},
   "outputs": [],
   "source": []
  }
 ],
 "metadata": {
  "interpreter": {
   "hash": "f3191fe16ac2b04b2b68be3cfbf9890188e5b4492c7aa22c6d5887c51209e689"
  },
  "kernelspec": {
   "display_name": "Python 3.7.6 ('DataScience')",
   "language": "python",
   "name": "python3"
  },
  "language_info": {
   "codemirror_mode": {
    "name": "ipython",
    "version": 3
   },
   "file_extension": ".py",
   "mimetype": "text/x-python",
   "name": "python",
   "nbconvert_exporter": "python",
   "pygments_lexer": "ipython3",
   "version": "3.9.12"
  },
  "orig_nbformat": 4
 },
 "nbformat": 4,
 "nbformat_minor": 2
}
