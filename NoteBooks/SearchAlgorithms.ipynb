{
 "cells": [
  {
   "cell_type": "markdown",
   "metadata": {},
   "source": [
    "## [Searching Algorithms](https://www.geeksforgeeks.org/searching-algorithms/?ref=ghm)"
   ]
  },
  {
   "cell_type": "code",
   "execution_count": 1,
   "metadata": {},
   "outputs": [],
   "source": [
    "# https://www.geeksforgeeks.org/linear-search/\n",
    "def linearSearch(arr, element):\n",
    "    n = len(arr)\n",
    "    left, right = 0, n-1\n",
    "    while left<right:\n",
    "        if arr[left] == element:\n",
    "            return left\n",
    "        if arr[right] == element:\n",
    "            return right\n",
    "        left += 1\n",
    "        right -=1\n",
    "    \n",
    "    return -1"
   ]
  },
  {
   "cell_type": "code",
   "execution_count": 3,
   "metadata": {},
   "outputs": [
    {
     "data": {
      "text/plain": [
       "2"
      ]
     },
     "execution_count": 3,
     "metadata": {},
     "output_type": "execute_result"
    }
   ],
   "source": [
    "linearSearch([1,2,3,4,5,6,7,8,9], 3)"
   ]
  },
  {
   "cell_type": "code",
   "execution_count": 10,
   "metadata": {},
   "outputs": [],
   "source": [
    "# https://www.geeksforgeeks.org/binary-search/\n",
    "def binarySearch(arr,l, r, x):\n",
    "    \n",
    "    if r>=l:\n",
    "        mid = l+ (r-l)//2\n",
    "        if arr[mid]==x:\n",
    "            return mid\n",
    "        elif arr[mid]>x:\n",
    "            return binarySearch(arr, l, mid-1, x)\n",
    "        else:\n",
    "            return binarySearch(arr, mid+1, r, x)\n",
    "    else:\n",
    "        return -1\n"
   ]
  },
  {
   "cell_type": "code",
   "execution_count": 11,
   "metadata": {},
   "outputs": [
    {
     "data": {
      "text/plain": [
       "0"
      ]
     },
     "execution_count": 11,
     "metadata": {},
     "output_type": "execute_result"
    }
   ],
   "source": [
    "binarySearch([1,2,3,4,5,6,7,8,9], 0, 8, 1)"
   ]
  },
  {
   "cell_type": "code",
   "execution_count": 13,
   "metadata": {},
   "outputs": [
    {
     "name": "stdout",
     "output_type": "stream",
     "text": [
      "Number 55 is at index 10\n"
     ]
    }
   ],
   "source": [
    "# https://www.geeksforgeeks.org/jump-search/\n",
    "import math\n",
    "def jumpSearch(arr, x, n):\n",
    "    #n = len(arr)\n",
    "    step = math.sqrt(n)\n",
    "    \n",
    "    prev = 0\n",
    "    while arr[int(min(step, n)-1)]<x:\n",
    "        prev = step\n",
    "        step += math.sqrt(n)\n",
    "        if prev>=n:\n",
    "            return -1\n",
    "    \n",
    "    while arr[int(prev)]<x:\n",
    "        prev+=1\n",
    "        if prev == min(step, n):\n",
    "            return -1\n",
    "    \n",
    "    if arr[int(prev)] == x:\n",
    "        return prev\n",
    "    \n",
    "    return -1\n",
    "\n",
    "\n",
    "# Driver code to test function\n",
    "arr = [ 0, 1, 1, 2, 3, 5, 8, 13, 21,\n",
    "    34, 55, 89, 144, 233, 377, 610 ]\n",
    "x = 55\n",
    "n = len(arr)\n",
    " \n",
    "# Find the index of 'x' using Jump Search\n",
    "index = jumpSearch(arr, x, n)\n",
    " \n",
    "# Print the index where 'x' is located\n",
    "print(\"Number\" , x, \"is at index\" ,\"%.0f\"%index)"
   ]
  },
  {
   "cell_type": "code",
   "execution_count": null,
   "metadata": {},
   "outputs": [],
   "source": []
  }
 ],
 "metadata": {
  "interpreter": {
   "hash": "aee8b7b246df8f9039afb4144a1f6fd8d2ca17a180786b69acc140d282b71a49"
  },
  "kernelspec": {
   "display_name": "Python 3.9.12 64-bit",
   "language": "python",
   "name": "python3"
  },
  "language_info": {
   "codemirror_mode": {
    "name": "ipython",
    "version": 3
   },
   "file_extension": ".py",
   "mimetype": "text/x-python",
   "name": "python",
   "nbconvert_exporter": "python",
   "pygments_lexer": "ipython3",
   "version": "3.9.12"
  },
  "orig_nbformat": 4
 },
 "nbformat": 4,
 "nbformat_minor": 2
}
