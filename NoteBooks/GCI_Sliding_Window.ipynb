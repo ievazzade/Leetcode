{
 "cells": [
  {
   "cell_type": "code",
   "execution_count": 2,
   "metadata": {},
   "outputs": [
    {
     "name": "stdout",
     "output_type": "stream",
     "text": [
      "[2.2, 2.8, 2.4, 3.6, 2.8]\n"
     ]
    }
   ],
   "source": [
    "def find_average_of_subarray(K, arr):\n",
    "    result = []\n",
    "    for i in range(len(arr) - K + 1):\n",
    "        _sum = 0\n",
    "        for j in range(i, i + K):\n",
    "            _sum += arr[j]\n",
    "        result.append(_sum/5)\n",
    "    return result\n",
    "\n",
    "def main():\n",
    "    result = find_average_of_subarray(5, [1, 3, 2, 6, -1, 4, 1, 8, 2])\n",
    "    print(str(result))\n",
    "\n",
    "main()"
   ]
  },
  {
   "cell_type": "code",
   "execution_count": 10,
   "metadata": {},
   "outputs": [
    {
     "name": "stdout",
     "output_type": "stream",
     "text": [
      "[2.2, 2.8, 2.4, 3.6, 2.8]\n"
     ]
    }
   ],
   "source": [
    "def find_average_of_subarray(K, arr):\n",
    "    \"\"\"\n",
    "     0  1  2  3  4   5  6  7  8\n",
    "    [1, 3, 2, 6, -1, 4, 1, 8, 2]\n",
    "        p               ^\n",
    "    \"\"\"\n",
    "    result = []\n",
    "    windowSum, windowStart = 0, 0\n",
    "    for i in range(len(arr)):\n",
    "        windowSum += arr[i]\n",
    "        if i >= K - 1:\n",
    "            result.append(windowSum / K)\n",
    "            windowSum -= arr[windowStart]\n",
    "            windowStart += 1\n",
    "\n",
    "    return result\n",
    "\n",
    "def main():\n",
    "    result = find_average_of_subarray(5, [1, 3, 2, 6, -1, 4, 1, 8, 2])\n",
    "    print(str(result))\n",
    "\n",
    "main()"
   ]
  },
  {
   "cell_type": "code",
   "execution_count": null,
   "metadata": {},
   "outputs": [],
   "source": []
  }
 ],
 "metadata": {
  "kernelspec": {
   "display_name": "Python 3.9.12 64-bit",
   "language": "python",
   "name": "python3"
  },
  "language_info": {
   "codemirror_mode": {
    "name": "ipython",
    "version": 3
   },
   "file_extension": ".py",
   "mimetype": "text/x-python",
   "name": "python",
   "nbconvert_exporter": "python",
   "pygments_lexer": "ipython3",
   "version": "3.9.12"
  },
  "orig_nbformat": 4,
  "vscode": {
   "interpreter": {
    "hash": "aee8b7b246df8f9039afb4144a1f6fd8d2ca17a180786b69acc140d282b71a49"
   }
  }
 },
 "nbformat": 4,
 "nbformat_minor": 2
}
