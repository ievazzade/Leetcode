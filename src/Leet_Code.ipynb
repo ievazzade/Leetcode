{
 "cells": [
  {
   "cell_type": "markdown",
   "metadata": {},
   "source": [
    "# Table of content\n",
    "- [2 - Two Sum](#2)\n",
    "- [3 - Longest Substring Without Repeating Characters](#3)\n",
    "- [26 - Remove Duplicates from Sorted Array](#26)\n",
    "- [34 - Find First and Last Position of Element in Sorted Array](#34)\n",
    "- [48 - Rotate Image](#48)\n",
    "- [53 -  Maximum Subarray](#53)\n",
    "- [242 - Valid Anagram](#242)"
   ]
  },
  {
   "cell_type": "code",
   "execution_count": 2,
   "metadata": {},
   "outputs": [],
   "source": [
    "from typing import List"
   ]
  },
  {
   "cell_type": "markdown",
   "metadata": {},
   "source": [
    "<a name='2'></a>\n",
    "1. [Two Sum](https://leetcode.com/problems/two-sum/)\n",
    "\n",
    "Given an array of integers nums and an integer target, return indices of the two numbers such that they add up to target. "
   ]
  },
  {
   "cell_type": "code",
   "execution_count": 17,
   "metadata": {},
   "outputs": [],
   "source": [
    "# 1. Broute Force\n",
    "class Solution():\n",
    "    def twoSum(self, nums: List, target: int) -> list[int]:\n",
    "        '''\n",
    "        Given an array of integers and an integer, return the indices \n",
    "        of the two numbers such that they add up to target\n",
    "        \n",
    "        Args:\n",
    "            nums: list of integers\n",
    "            target: an integer\n",
    "            \n",
    "        Returns:\n",
    "            target_ind: list of indices adding up to target\n",
    "            '''\n",
    "        target_ind = []\n",
    "        m = len(nums)\n",
    "        for i in range(m):\n",
    "            for j in range(i, m):\n",
    "                if nums[i]+nums[j]==target:\n",
    "                    target_ind.append([i,j])\n",
    "        \n",
    "\n",
    "        return target_ind"
   ]
  },
  {
   "cell_type": "code",
   "execution_count": 18,
   "metadata": {},
   "outputs": [
    {
     "name": "stdout",
     "output_type": "stream",
     "text": [
      "[[0, 2], [1, 3]]\n"
     ]
    }
   ],
   "source": [
    "s = Solution()\n",
    "print(s.twoSum([1,7,8,2], 9))"
   ]
  },
  {
   "cell_type": "code",
   "execution_count": 27,
   "metadata": {},
   "outputs": [],
   "source": [
    "# 2. Hash Map\n",
    "\n",
    "from typing import List\n",
    "class Solution():\n",
    "    def twoSum(self, nums: List[int], target: int)-> List[int]:\n",
    "        prevMap = {} # val : index\n",
    "        for i, n in enumerate(nums):\n",
    "            diff = target - n\n",
    "            if diff in prevMap:\n",
    "                return [prevMap[diff], i]\n",
    "            prevMap[n] = i\n",
    "        return\n"
   ]
  },
  {
   "cell_type": "code",
   "execution_count": 28,
   "metadata": {},
   "outputs": [
    {
     "name": "stdout",
     "output_type": "stream",
     "text": [
      "[0, 2]\n"
     ]
    }
   ],
   "source": [
    "s = Solution()\n",
    "print(s.twoSum([1,7,8,5], 9))"
   ]
  },
  {
   "cell_type": "code",
   "execution_count": 30,
   "metadata": {},
   "outputs": [],
   "source": [
    "# 2. Hash Map\n",
    "\n",
    "from typing import List\n",
    "class Solution():\n",
    "    def twoSum(self, nums: List[int], target: int)-> List[int]:\n",
    "        hashmap = {}\n",
    "        for i in range(len(nums)):\n",
    "            hashmap[nums[i]] = i\n",
    "        for i in range(len(nums)):\n",
    "            complement = target - nums[i]\n",
    "            if complement in hashmap and hashmap[complement] != i:\n",
    "                return [i, hashmap[complement]]"
   ]
  },
  {
   "cell_type": "code",
   "execution_count": 32,
   "metadata": {},
   "outputs": [
    {
     "name": "stdout",
     "output_type": "stream",
     "text": [
      "[0, 2]\n"
     ]
    }
   ],
   "source": [
    "s = Solution()\n",
    "print(s.twoSum([1,7,8,5], 9))"
   ]
  },
  {
   "cell_type": "markdown",
   "metadata": {},
   "source": [
    "<a name=\"3\"></a>\n",
    "3. [Longest Substring Without Repeating Characters](https://leetcode.com/problems/longest-substring-without-repeating-characters/)\n",
    "\n",
    "Given a string s, find the length of the longest substring without repeating characters.\n",
    "\n",
    "**Input:** s = \"abcabcbb\"\n",
    "\n",
    "**Output:** 3"
   ]
  },
  {
   "cell_type": "code",
   "execution_count": 29,
   "metadata": {},
   "outputs": [],
   "source": [
    "# 1. Sliding Window\n",
    "class Solution(object):\n",
    "    def lengthOfLongestSubstring(self, s):\n",
    "        \"\"\"\n",
    "        :type s: str\n",
    "        :rtype: int\n",
    "        \"\"\"\n",
    "        left = 0\n",
    "        right = 0\n",
    "        n = len(s)\n",
    "        ans = 0\n",
    "        m = {}\n",
    "        while (left<n and right<n):\n",
    "            el = s[right]\n",
    "            if (el in m):\n",
    "                left = max(left, m[el]+1)\n",
    "            m[el] = right\n",
    "            ans = max(ans, right-left+1)\n",
    "            right += 1\n",
    "        return ans\n",
    "            "
   ]
  },
  {
   "cell_type": "code",
   "execution_count": 30,
   "metadata": {},
   "outputs": [
    {
     "name": "stdout",
     "output_type": "stream",
     "text": [
      "2\n"
     ]
    }
   ],
   "source": [
    "s = Solution()\n",
    "answer = s.lengthOfLongestSubstring('abba')\n",
    "print(answer)"
   ]
  },
  {
   "cell_type": "code",
   "execution_count": 22,
   "metadata": {},
   "outputs": [
    {
     "data": {
      "text/plain": [
       "[0, 0, 0, 0, 0]"
      ]
     },
     "execution_count": 22,
     "metadata": {},
     "output_type": "execute_result"
    }
   ],
   "source": [
    "[0] * 5"
   ]
  },
  {
   "cell_type": "markdown",
   "metadata": {},
   "source": [
    "<a  name=\"26\"></a>\n",
    "26. [Remove Duplicates from Sorted Array](https://leetcode.com/problems/remove-duplicates-from-sorted-array/)\n",
    "\n",
    "Given an integer array nums sorted in non-decreasing order, remove the duplicates in-place such that each unique element appears only once. The relative order of the elements should be kept the same.\n",
    "\n",
    "Since it is impossible to change the length of the array in some languages, you must instead have the result be placed in the first part of the array nums. More formally, if there are k elements after removing the duplicates, then the first k elements of nums should hold the final result. It does not matter what you leave beyond the first k elements.\n",
    "\n",
    "Return k after placing the final result in the first k slots of nums.\n",
    "\n",
    "Do not allocate extra space for another array. You must do this by modifying the input array in-place with O(1) extra memory.\n",
    "\n",
    "**Input**: nums = [1,1,2]\n",
    "\n",
    "**Output**: 2, nums = [1,2,_]\n",
    "\n",
    "**Input:** nums = [0,0,1,1,1,2,2,3,3,4]\n",
    "\n",
    "**Output:** 5, nums = [0,1,2,3,4,_,_,_,_,_]"
   ]
  },
  {
   "cell_type": "code",
   "execution_count": 12,
   "metadata": {},
   "outputs": [],
   "source": [
    "# 1 Two Pointers\n",
    "class Solution():\n",
    "    def removeDuplicates(self, nums: List[int])->int:\n",
    "        if len(nums)==0:\n",
    "            return 0\n",
    "        i = 0\n",
    "        for j in range(1, len(nums)):\n",
    "            if nums[i]!=nums[j]:\n",
    "                i += 1\n",
    "                nums[i] = nums[j]\n",
    "        return i+1"
   ]
  },
  {
   "cell_type": "code",
   "execution_count": 13,
   "metadata": {},
   "outputs": [
    {
     "name": "stdout",
     "output_type": "stream",
     "text": [
      "2\n",
      "5\n"
     ]
    }
   ],
   "source": [
    "s = Solution()\n",
    "\n",
    "print(s.removeDuplicates([1,2,2]))\n",
    "print(s.removeDuplicates([0,0,1,1,1,2,2,3,3,4]))"
   ]
  },
  {
   "cell_type": "code",
   "execution_count": null,
   "metadata": {},
   "outputs": [],
   "source": []
  },
  {
   "cell_type": "code",
   "execution_count": null,
   "metadata": {},
   "outputs": [],
   "source": []
  },
  {
   "cell_type": "markdown",
   "metadata": {},
   "source": [
    "<a  name=\"34\"></a>\n",
    "34. [Find First and Last Position of Element in Sorted Array](https://leetcode.com/problems/find-first-and-last-position-of-element-in-sorted-array/)\n",
    "\n",
    "Given an array of integers nums sorted in non-decreasing order, find the starting and ending position of a given target value.\n",
    "\n",
    "If target is not found in the array, return [-1, -1].\n",
    "\n",
    "You must write an algorithm with O(log n) runtime complexity.\n",
    "\n",
    "**Input:** nums = [5,7,7,8,8,10], target = 8\n",
    "\n",
    "**Output:** [3,4]"
   ]
  },
  {
   "cell_type": "code",
   "execution_count": null,
   "metadata": {},
   "outputs": [],
   "source": [
    "class Solution():\n",
    "    def searchRange(self, nums, target):\n",
    "        left = 0\n",
    "        right = len(nums)-1\n",
    "        while(left<right):\n",
    "            mid  = int((left+right)/2)\n",
    "            if (mid == target):\n",
    "                "
   ]
  },
  {
   "cell_type": "code",
   "execution_count": null,
   "metadata": {},
   "outputs": [],
   "source": []
  },
  {
   "cell_type": "code",
   "execution_count": null,
   "metadata": {},
   "outputs": [],
   "source": []
  },
  {
   "cell_type": "markdown",
   "metadata": {},
   "source": [
    "<a name=\"48\"></a>\n",
    "48. [Rotate Image](https://leetcode.com/problems/rotate-image/)\n",
    "\n",
    "You are given an n x n 2D matrix representing an image, rotate the image by 90 degrees (clockwise).\n",
    "\n",
    "You have to rotate the image in-place, which means you have to modify the input 2D matrix directly. DO NOT allocate another 2D matrix and do the rotation."
   ]
  },
  {
   "cell_type": "code",
   "execution_count": 3,
   "metadata": {},
   "outputs": [],
   "source": [
    "class Solution():\n",
    "    def rotate(self, Matrix: List[List[int]]) -> None:\n",
    "        l, r = 0, len(Matrix)-1\n",
    "\n",
    "        while l < r:\n",
    "            for i in range(r-l):\n",
    "                top, bottom = l, r\n",
    "\n",
    "                # save the topmost value\n",
    "                topleft = Matrix[top][l + i]\n",
    "\n",
    "                # move bottom left into top left\n",
    "                Matrix[top][l + i] = Matrix[bottom - i][l]\n",
    "\n",
    "                # move bottom right into bottom left\n",
    "                Matrix[bottom - i][l] = Matrix[bottom][r - i]\n",
    "\n",
    "                # move top right into bottom right\n",
    "                Matrix[bottom][r - i] = Matrix[top + i][r]\n",
    "\n",
    "                # move top left into top right\n",
    "                Matrix[top + i][r] = topleft\n",
    "            r -= 1\n",
    "            l += 1"
   ]
  },
  {
   "cell_type": "code",
   "execution_count": 4,
   "metadata": {},
   "outputs": [],
   "source": [
    "class Solution:\n",
    "    def rotate(self, matrix: List[List[int]]) -> None:\n",
    "        self.transpose(matrix)\n",
    "        self.reflect(matrix)\n",
    "    \n",
    "    def transpose(self, matrix):\n",
    "        n =len(matrix)\n",
    "        for i in range(n):\n",
    "            for j in range(i+1,n):\n",
    "                matrix[j][i], matrix[i][j] = matrix[i][j], matrix[j][i]\n",
    "    \n",
    "    def reflect(self, matrix):\n",
    "        n = len(matrix)\n",
    "        for i in range(n):\n",
    "            for j in range(n//2):\n",
    "                matrix[i][j], matrix[i][-j-1] = matrix[i][-j-1], matrix[i][j]\n"
   ]
  },
  {
   "cell_type": "code",
   "execution_count": 5,
   "metadata": {},
   "outputs": [
    {
     "name": "stdout",
     "output_type": "stream",
     "text": [
      "[[7, 4, 1], [8, 5, 2], [9, 6, 3]]\n"
     ]
    }
   ],
   "source": [
    "a = [[1,2,3],[4,5,6],[7,8,9]]\n",
    "s = Solution()\n",
    "s.rotate(a)\n",
    "print(a)"
   ]
  },
  {
   "cell_type": "code",
   "execution_count": null,
   "metadata": {},
   "outputs": [],
   "source": []
  },
  {
   "cell_type": "markdown",
   "metadata": {},
   "source": [
    "<a  name=\"53\"></a>\n",
    "53. [Maximum Subarray](https://leetcode.com/problems/maximum-subarray/)\n",
    "\n",
    "Given an integer array nums, find the contiguous subarray (containing at least one number) which has the largest sum and return its sum.\n",
    "\n",
    "A subarray is a contiguous part of an array."
   ]
  },
  {
   "cell_type": "code",
   "execution_count": 8,
   "metadata": {},
   "outputs": [],
   "source": [
    "# 1 Broute Force\n",
    "\n",
    "class Solution():\n",
    "    def maxSubArray(self, nums):\n",
    "        m = len(nums)\n",
    "        maxSum = nums[0]\n",
    "        for i in range(m):\n",
    "            SumNum = 0\n",
    "            for j in range(i,m):\n",
    "                SumNum += nums[j]\n",
    "                maxSum = max(maxSum, SumNum)\n",
    "        \n",
    "\n",
    "        return maxSum\n",
    "\n"
   ]
  },
  {
   "cell_type": "code",
   "execution_count": 10,
   "metadata": {},
   "outputs": [
    {
     "data": {
      "text/plain": [
       "0"
      ]
     },
     "execution_count": 10,
     "metadata": {},
     "output_type": "execute_result"
    }
   ],
   "source": [
    "s = Solution()\n",
    "s.maxSubArray([-1,-2,0,-3])"
   ]
  },
  {
   "cell_type": "code",
   "execution_count": 15,
   "metadata": {},
   "outputs": [],
   "source": [
    "# 2 Sliding Widnow\n",
    "class Solution():\n",
    "    def maxSubArray(self, nums: List[int])->int:\n",
    "        maxSub = nums[0]\n",
    "        curSum = 0\n",
    "\n",
    "        for n in nums:\n",
    "            if curSum < 0:\n",
    "                curSum = 0\n",
    "            curSum +=n\n",
    "            maxSub = max(curSum, maxSub)\n",
    "\n",
    "        return maxSub\n"
   ]
  },
  {
   "cell_type": "code",
   "execution_count": 18,
   "metadata": {},
   "outputs": [
    {
     "data": {
      "text/plain": [
       "6"
      ]
     },
     "execution_count": 18,
     "metadata": {},
     "output_type": "execute_result"
    }
   ],
   "source": [
    "s = Solution()\n",
    "s.maxSubArray([-2,1,-3,4,-1,2,1,-5,4])"
   ]
  },
  {
   "cell_type": "markdown",
   "metadata": {},
   "source": [
    "[122. Best Time to Buy and Sell Stock II](https://leetcode.com/problems/best-time-to-buy-and-sell-stock-ii/)\n",
    "\n",
    "You are given an integer array prices where prices[i] is the price of a given stock on the ith day.\n",
    "On each day, you may decide to buy and/or sell the stock. You can only hold at most one share of the stock at any time. However, you can buy it then immediately sell it on the same day.\n",
    "Find and return the maximum profit you can achieve.\n",
    "\n",
    "**Input**: prices = [7,1,5,3,6,4]\n",
    "\n",
    "**Output**: 7\n",
    "\n",
    "**Input**: prices = [1,2,3,4,5]\n",
    "\n",
    "**Output**: 4\n",
    "\n",
    "**Input**: prices = [7,6,4,3,1]\n",
    "\n",
    "**Output**: 0"
   ]
  },
  {
   "cell_type": "code",
   "execution_count": 22,
   "metadata": {},
   "outputs": [],
   "source": [
    "class Solution:\n",
    "    def maxProfit(self, prices: List[int]) -> int:\n",
    "        profit = 0\n",
    "        for i in range(1, len(prices)):\n",
    "            if prices[i]>prices[i-1]:\n",
    "                profit += prices[i] - prices[i-1]\n",
    "        return profit"
   ]
  },
  {
   "cell_type": "code",
   "execution_count": 23,
   "metadata": {},
   "outputs": [
    {
     "data": {
      "text/plain": [
       "7"
      ]
     },
     "execution_count": 23,
     "metadata": {},
     "output_type": "execute_result"
    }
   ],
   "source": [
    "s = Solution()\n",
    "s.maxProfit([7,1,5,3,6,4])"
   ]
  },
  {
   "cell_type": "markdown",
   "metadata": {},
   "source": [
    "[189. Rotate Array](https://leetcode.com/problems/rotate-array/)\n",
    "\n",
    "Given an array, rotate the array to the right by k steps, where k is non-negative.\n",
    "\n",
    "**Input**: nums = [1,2,3,4,5,6,7], k = 3\n",
    "\n",
    "**Output**: [5,6,7,1,2,3,4]"
   ]
  },
  {
   "cell_type": "code",
   "execution_count": 21,
   "metadata": {},
   "outputs": [],
   "source": [
    "# 1. Brute Force\n",
    "class Solution:\n",
    "    def rotateArray(self, nums: List[int], k: int) -> None:\n",
    "        k %= len(nums)\n",
    "        for i in range(k):\n",
    "            last = nums[-1]\n",
    "            for j in range(len(nums)):\n",
    "                nums[j], last = last, nums[j]"
   ]
  },
  {
   "cell_type": "code",
   "execution_count": 22,
   "metadata": {},
   "outputs": [
    {
     "name": "stdout",
     "output_type": "stream",
     "text": [
      "[3, 4, 5, 1, 2]\n"
     ]
    }
   ],
   "source": [
    "nums = [1,2,3,4,5]\n",
    "s = Solution()\n",
    "s.rotateArray(nums, 3)\n",
    "print(nums)"
   ]
  },
  {
   "cell_type": "code",
   "execution_count": 28,
   "metadata": {},
   "outputs": [],
   "source": [
    "# 2. Using Extra Array\n",
    "class Solution:\n",
    "    def rotateArray(self, nums: List[int], k: int) -> None:\n",
    "        n = len(nums)\n",
    "        a = [0] * n\n",
    "        for i in range(n):\n",
    "            a[i] = nums[(n-k+i)%n]\n",
    "        nums[:] = a"
   ]
  },
  {
   "cell_type": "code",
   "execution_count": 30,
   "metadata": {},
   "outputs": [
    {
     "name": "stdout",
     "output_type": "stream",
     "text": [
      "[9, 10, 1, 2, 3, 4, 5, 6, 7, 8]\n"
     ]
    }
   ],
   "source": [
    "nums = [1,2,3,4,5,6,7,8,9,10]\n",
    "s = Solution()\n",
    "s.rotateArray(nums, 2)\n",
    "print(nums)"
   ]
  },
  {
   "cell_type": "code",
   "execution_count": 2,
   "metadata": {},
   "outputs": [],
   "source": [
    "# 3. Using Cyclic Replacements\n",
    "class Solution:\n",
    "    def rotate(self, nums: List[int], k: int) -> None:\n",
    "        \"\"\"\n",
    "        Do not return anything, modify nums in-place instead.\n",
    "        \"\"\"\n",
    "        n = len(nums)\n",
    "        start = count = 0\n",
    "        while count < n:\n",
    "            current, prev = start, nums[start]\n",
    "            while True:\n",
    "                next_idx = (current+k)%n\n",
    "                nums[next_idx], prev = prev, nums[next_idx]\n",
    "                current = next_idx\n",
    "                count += 1\n",
    "                if start == current:\n",
    "                    break\n",
    "            start += 1"
   ]
  },
  {
   "cell_type": "code",
   "execution_count": 4,
   "metadata": {},
   "outputs": [
    {
     "name": "stdout",
     "output_type": "stream",
     "text": [
      "[9, 10, 1, 2, 3, 4, 5, 6, 7, 8]\n"
     ]
    }
   ],
   "source": [
    "nums = [1,2,3,4,5,6,7,8,9,10]\n",
    "s = Solution()\n",
    "s.rotate(nums, 2)\n",
    "print(nums)"
   ]
  },
  {
   "cell_type": "code",
   "execution_count": 11,
   "metadata": {},
   "outputs": [],
   "source": [
    "# 4. \n",
    "class Solution:\n",
    "    def reverse(self, nums: List[int], start: int, end: int) -> None:\n",
    "        while start< end:\n",
    "            nums[start] , nums[end] = nums[end], nums[start]\n",
    "            start, end = start + 1, end - 1\n",
    "    \n",
    "    def rotate(self, nums: List[int], k: int) -> None:\n",
    "        n = len(nums)\n",
    "        k %= n\n",
    "\n",
    "        self.reverse(nums, 0, n - 1)\n",
    "        self.reverse(nums, 0, k - 1)\n",
    "        self.reverse(nums, k, n - 1)\n"
   ]
  },
  {
   "cell_type": "code",
   "execution_count": 13,
   "metadata": {},
   "outputs": [
    {
     "name": "stdout",
     "output_type": "stream",
     "text": [
      "[9, 10, 1, 2, 3, 4, 5, 6, 7, 8]\n"
     ]
    }
   ],
   "source": [
    "nums = [1,2,3,4,5,6,7,8,9,10]\n",
    "s = Solution()\n",
    "s.rotate(nums, 2)\n",
    "print(nums)"
   ]
  },
  {
   "cell_type": "code",
   "execution_count": null,
   "metadata": {},
   "outputs": [],
   "source": []
  },
  {
   "cell_type": "markdown",
   "metadata": {},
   "source": [
    "<a name='242'></a>\n",
    "242. [Valid Anagram](https://leetcode.com/problems/valid-anagram/)"
   ]
  },
  {
   "cell_type": "code",
   "execution_count": 2,
   "metadata": {},
   "outputs": [],
   "source": [
    "# 1\n",
    "class Solution():\n",
    "    def isAnagram(self, s:str , t:str) -> bool:\n",
    "        if len(s) != len(t):\n",
    "            return False\n",
    "\n",
    "        countS, countT = {}, {}\n",
    "        for i in range(len(s)):\n",
    "            countS[s[i]] = 1 + countS.get(s[i], 0)\n",
    "            countT[t[i]] = 1 + countT.get(t[i], 0)\n",
    "        for c in countS:\n",
    "            if countS[c] != countT.get(c,0):\n",
    "                return False\n",
    "        return True\n",
    "        "
   ]
  },
  {
   "cell_type": "code",
   "execution_count": 3,
   "metadata": {},
   "outputs": [
    {
     "name": "stdout",
     "output_type": "stream",
     "text": [
      "True\n"
     ]
    }
   ],
   "source": [
    "s = Solution()\n",
    "r = s.isAnagram('car', 'rac')\n",
    "print(r)"
   ]
  },
  {
   "cell_type": "code",
   "execution_count": 9,
   "metadata": {},
   "outputs": [],
   "source": [
    "# 2\n",
    "from collections import Counter\n",
    "class Solution():\n",
    "    def isAnagram(self, s: str, t: str) -> bool:\n",
    "        return Counter(s) == Counter(t)"
   ]
  },
  {
   "cell_type": "code",
   "execution_count": 10,
   "metadata": {},
   "outputs": [
    {
     "name": "stdout",
     "output_type": "stream",
     "text": [
      "True\n"
     ]
    }
   ],
   "source": [
    "s = Solution()\n",
    "r = s.isAnagram('car', 'rac')\n",
    "print(r)"
   ]
  },
  {
   "cell_type": "code",
   "execution_count": 11,
   "metadata": {},
   "outputs": [],
   "source": [
    "# 3\n",
    "class Solution():\n",
    "    def isAnagram(self, s: str, t: str) -> bool:\n",
    "        return sorted(s) == sorted(t)\n",
    "\n"
   ]
  },
  {
   "cell_type": "code",
   "execution_count": 12,
   "metadata": {},
   "outputs": [
    {
     "name": "stdout",
     "output_type": "stream",
     "text": [
      "True\n"
     ]
    }
   ],
   "source": [
    "s = Solution()\n",
    "r = s.isAnagram('car', 'rac')\n",
    "print(r)"
   ]
  },
  {
   "cell_type": "code",
   "execution_count": null,
   "metadata": {},
   "outputs": [],
   "source": []
  }
 ],
 "metadata": {
  "interpreter": {
   "hash": "4fa7c89065bd7235d3511eb9aa79de33a046abcaff445ed41c2ee96e6b13882d"
  },
  "kernelspec": {
   "display_name": "Python 3.7.6 64-bit ('mdanalysis': conda)",
   "language": "python",
   "name": "python3"
  },
  "language_info": {
   "codemirror_mode": {
    "name": "ipython",
    "version": 3
   },
   "file_extension": ".py",
   "mimetype": "text/x-python",
   "name": "python",
   "nbconvert_exporter": "python",
   "pygments_lexer": "ipython3",
   "version": "3.7.6"
  },
  "orig_nbformat": 4
 },
 "nbformat": 4,
 "nbformat_minor": 2
}
